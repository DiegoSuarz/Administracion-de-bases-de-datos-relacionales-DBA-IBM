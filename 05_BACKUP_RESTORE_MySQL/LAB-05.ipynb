{
    "metadata": {
        "kernelspec": {
            "name": "SQL",
            "display_name": "SQL",
            "language": "sql"
        },
        "language_info": {
            "name": "sql",
            "version": ""
        }
    },
    "nbformat_minor": 2,
    "nbformat": 4,
    "cells": [
        {
            "cell_type": "markdown",
            "source": [
                "# Laboratorio Práctico : Copia de Seguridad y Restauración usando MySQL\n",
                "\n",
                "En este laboratorio, aprenderás cómo usar la interfaz de línea de comandos (CLI) de MySQL para crear diferentes tipos de copias de seguridad de una base de datos y restaurar la estructura y los datos de una base de datos con las copias de seguridad que has creado cuando sea necesario.\n",
                "\n",
                "## Objetivos\n",
                "\n",
                "Después de completar este laboratorio, podrás usar la línea de comandos de MySQL para:\n",
                "\n",
                "- Realizar una Copia de Seguridad y Restauración Lógica\n",
                "\n",
                "## Software Utilizado en este Laboratorio\n",
                "\n",
                "En este laboratorio, utilizarás [MySQL](https:\\www.mysql.com\\). MySQL es un Sistema de Gestión de Bases de Datos Relacionales (RDBMS) diseñado para almacenar, manipular y recuperar datos de manera eficiente.\n",
                "\n",
                "![Logotipo de MySQL](https://cf-courses-data.s3.us.cloud-object-storage.appdomain.cloud/IBM-DB0231EN-SkillsNetwork/labs/MySQL/Lab%20-%20Backup%20and%20Restore%20using%20MySQL/images/mysql.png)\n",
                "\n",
                "Para completar este laboratorio, utilizarás el servicio de base de datos relacional MySQL disponible como parte de los Laboratorios de la Red de Habilidades de IBM (SN Labs) en el IDE de la nube. SN Labs es un entorno de laboratorio virtual utilizado en este curso.\n",
                "\n",
                "## Base de Datos Utilizada en este Laboratorio\n",
                "\n",
                "La base de datos World utilizada en este laboratorio proviene de la siguiente fuente: [https://dev.mysql.com/doc/world-setup/en/](https:\\dev.mysql.com\\doc\\world-setup\\en\\) bajo la [Licencia CC BY 4.0](https:\\creativecommons.org\\licenses\\by\\4.0\\deed.en) con [Copyright 2021 - Statistics Finland](https:\\tilastokeskus.fi\\org\\lainsaadanto\\copyright_en.html).\n",
                "\n",
                "Utilizarás una versión modificada de la base de datos para el laboratorio, así que para seguir las instrucciones del laboratorio con éxito, por favor utiliza la base de datos proporcionada con el laboratorio, en lugar de la base de datos de la fuente original.\n",
                "\n",
                "El siguiente diagrama ERD muestra el esquema de la base de datos World:\n",
                "\n",
                "![Diagrama ERD](https://cf-courses-data.s3.us.cloud-object-storage.appdomain.cloud/IBM-DB0231EN-SkillsNetwork/datasets/World/World_ERD.png)\n",
                "\n",
                "La primera fila es el nombre de la tabla, la segunda es la clave primaria y los elementos restantes son cualquier atributo adicional.\n",
                "\n",
                "  \n",
                "\n",
                "## Ejercicios\n",
                "\n",
                "Este laboratorio se divide en dos ejercicios: un Ejercicio de Ejemplo y un Ejercicio de Práctica."
            ],
            "metadata": {
                "azdata_cell_guid": "cd66afb6-7f49-48c0-bc6f-11ed6eb8369e"
            },
            "attachments": {}
        },
        {
            "cell_type": "markdown",
            "source": [
                "## Ejercicio de Ejemplo A: Realizar una Copia de Seguridad Lógica y Restauración\n",
                "\n",
                "En este ejercicio de ejemplo, recorrerás un ejemplo que cubre cómo realizar una copia de seguridad lógica y la restauración de una tabla de base de datos.\n",
                "\n",
                "Una copia de seguridad lógica crea un archivo que contiene comandos DDL (como crear tabla) y DML (como insertar) que recrean los objetos y datos en la base de datos. Como tal, puedes usar este archivo para recrear la base de datos en el mismo sistema o en otro. Generalmente, cuando realizas una copia de seguridad lógica y restauración, recuperas cualquier espacio desperdiciado de la base de datos original, ya que el proceso de restauración crea una versión limpia de las tablas. Las copias de seguridad lógicas te permiten realizar copias de seguridad de objetos granulares. Por ejemplo, puedes hacer una copia de seguridad de una tabla de base de datos individual, sin embargo, no puedes usarla para hacer copias de seguridad de archivos de registro o configuraciones de la base de datos. Supón que estás en una situación donde eliminaste accidentalmente una o más tablas de una base de datos. Aquí es donde utilizas la copia de seguridad lógica de una tabla de base de datos para restaurar la estructura y los datos de la tabla.\n",
                "\n",
                "1. Inicia la sesión del servicio MySQL utilizando la directiva `Start MySQL in IDE button`.\n",
                "\n",
                " <span class=\"plugin-text\" style=\"scrollbar-color: rgb(69, 74, 77) rgb(32, 35, 36); padding: 0px 0px 0px 2px; margin: 0px; box-sizing: border-box; display: inline;\">Open MySQL Page in IDE</span>\n",
                "\n",
                "2. En la página de lanzamiento, haz clic en el botón **Crear**.\n",
                "\n",
                "![](https://cf-courses-data.s3.us.cloud-object-storage.appdomain.cloud/fizCpgfWdirIdQ1MPgzvCg/k2-1.png)\n",
                "\n",
                "**NOTA:** Siempre que se te pida ingresar tu contraseña de sesión del servicio MySQL desde la pestaña de sesión del servicio MySQL en cualquier paso del laboratorio, copia la contraseña que se muestra en la sección **Información de Conexión** cuando MySQL se inició. Pega la contraseña en el terminal usando **Ctrl + V** (Mac: ⌘ + V), y presiona **Enter** en el teclado. Por razones de seguridad, no verás la contraseña mientras se ingresa en el terminal.\n",
                ""
            ],
            "metadata": {
                "azdata_cell_guid": "e76d0998-837e-4f10-afdf-af768a5a0fb7"
            },
            "attachments": {}
        },
        {
            "cell_type": "markdown",
            "source": [
                "3. Haz clic en el botón **Nuevo Terminal** desde la pestaña de sesión del servicio mysql. Ahora necesitas obtener dos archivos de script mysql al almacenamiento de sesión del usuario de Cloud IDE. Copia el comando a continuación haciendo clic en el pequeño botón de copiar en la esquina inferior derecha del bloque de código. Luego pégalo en el terminal en el símbolo del sistema usando **Ctrl + V** (Mac: ⌘ + V), y **Enter** en el teclado. Haz esto para cada uno de los comandos a continuación uno por uno.\n",
                "    \n",
                "    - [world\\_mysql\\_script.sql](https:\\cf-courses-data.s3.us.cloud-object-storage.appdomain.cloud\\IBM-DB0231EN-SkillsNetwork\\datasets\\World\\world_mysql_script.sql)\n",
                "        \n",
                "        ```\n",
                "        wget https://cf-courses-data.s3.us.cloud-object-storage.appdomain.cloud/IBM-DB0231EN-SkillsNetwork/datasets/World/world_mysql_script.sql\n",
                "        \n",
                "        ```\n",
                "        \n",
                "    - [world\\_mysql\\_update\\_A.sql](https:\\cf-courses-data.s3.us.cloud-object-storage.appdomain.cloud\\IBM-DB0231EN-SkillsNetwork\\datasets\\World\\world_mysql_update_A.sql)\n",
                "        \n",
                "        ```\n",
                "        wget https://cf-courses-data.s3.us.cloud-object-storage.appdomain.cloud/IBM-DB0231EN-SkillsNetwork/datasets/World/world_mysql_update_A.sql\n",
                "        \n",
                "        ```\n",
                "        \n",
                "    \n",
                "    ![Captura de pantalla del terminal](https://cf-courses-data.s3.us.cloud-object-storage.appdomain.cloud/IBM-DB0231EN-SkillsNetwork/labs/MySQL/Lab%20-%20Backup%20and%20Restore%20using%20MySQL/images/A.3.png)"
            ],
            "metadata": {
                "azdata_cell_guid": "2cce6113-262f-4284-83cd-8fbf7bcdb865"
            },
            "attachments": {}
        },
        {
            "cell_type": "markdown",
            "source": [
                "4. Inicia una sesión de línea de comandos mysql haciendo clic en el botón **MySQL CLI** desde la pestaña de sesión del servicio mysql.\n",
                "\n",
                "![](https://cf-courses-data.s3.us.cloud-object-storage.appdomain.cloud/tZa2-_CEaVS2PslvxKFWlg/k2-4.png)"
            ],
            "metadata": {
                "azdata_cell_guid": "cb482f2f-b339-4d1b-b2ca-23eaff9ecf95"
            },
            "attachments": {}
        },
        {
            "cell_type": "markdown",
            "source": [
                "5. Crea una nueva base de datos **world** usando el comando a continuación en el terminal:\n",
                "    \n",
                "    ```sql\n",
                "    CREATE DATABASE world;\n",
                "    ```\n",
                "    \n",
                "    ![Captura de pantalla mostrando el comando para crear la base de datos world en el terminal](https://cf-courses-data.s3.us.cloud-object-storage.appdomain.cloud/IBM-DB0231EN-SkillsNetwork/labs/MySQL/Lab%20-%20Backup%20and%20Restore%20using%20MySQL/images/A.5.png)"
            ],
            "metadata": {
                "azdata_cell_guid": "111c0ecc-87ad-45e7-83cc-773ddd235715"
            },
            "attachments": {}
        },
        {
            "cell_type": "code",
            "source": [
                "CREATE DATABASE world;"
            ],
            "metadata": {
                "azdata_cell_guid": "66655616-360e-4a07-b5a8-f7ba818b3111",
                "language": "sql"
            },
            "outputs": [
                {
                    "output_type": "display_data",
                    "data": {
                        "text/html": "Total execution time: 00:00:00.002"
                    },
                    "metadata": {}
                },
                {
                    "output_type": "error",
                    "ename": "",
                    "evalue": "1007 (HY000): Can't create database 'world'; database exists",
                    "traceback": []
                }
            ],
            "execution_count": 1
        },
        {
            "cell_type": "markdown",
            "source": [
                "6. Para usar la base de datos world recién creada, usa el comando a continuación en el terminal:\n",
                "    \n",
                "    ```\n",
                "    USE world;\n",
                "    ```\n",
                "    \n",
                "    ![Captura de pantalla mostrando el comando use world en el terminal](https://cf-courses-data.s3.us.cloud-object-storage.appdomain.cloud/IBM-DB0231EN-SkillsNetwork/labs/MySQL/Lab%20-%20Backup%20and%20Restore%20using%20MySQL/images/A.6.png)"
            ],
            "metadata": {
                "azdata_cell_guid": "06411478-a46c-414b-a59d-9c383a59235e"
            },
            "attachments": {}
        },
        {
            "cell_type": "code",
            "source": [
                "USE world;"
            ],
            "metadata": {
                "azdata_cell_guid": "5167e130-b7b6-42f8-a319-c697f7314bbf",
                "language": "sql"
            },
            "outputs": [
                {
                    "output_type": "display_data",
                    "data": {
                        "text/html": "Commands completed successfully"
                    },
                    "metadata": {}
                },
                {
                    "output_type": "display_data",
                    "data": {
                        "text/html": "Total execution time: 00:00:00"
                    },
                    "metadata": {}
                }
            ],
            "execution_count": 1
        },
        {
            "cell_type": "markdown",
            "source": [
                "7. Ejecuta el script mysql world ([world\\_mysql.sql](https://cf-courses-data.s3.us.cloud-object-storage.appdomain.cloud/IBM-DB0231EN-SkillsNetwork/datasets/World/world_mysql_script.sql)) para completar el proceso de creación de la base de datos world usando el comando a continuación en el terminal:\n",
                "    \n",
                "    ```sql\n",
                "    SOURCE world_mysql_script.sql;\n",
                "    ```\n",
                "    \n",
                "    ![Salida de ejecutar el comando SOURCE](https://cf-courses-data.s3.us.cloud-object-storage.appdomain.cloud/IBM-DB0231EN-SkillsNetwork/labs/MySQL/Lab%20-%20Backup%20and%20Restore%20using%20MySQL/images/MySQL_backup_feedback_2.png)"
            ],
            "metadata": {
                "azdata_cell_guid": "897e8e57-2484-4f5e-a709-8fa794ab1a88"
            },
            "attachments": {}
        },
        {
            "cell_type": "markdown",
            "source": [
                "8. Para listar todos los nombres de las tablas de la base de datos world, usa el comando a continuación en el terminal:\n",
                "    \n",
                "    ```sql\n",
                "    SHOW TABLES;\n",
                "    ```\n",
                "    \n",
                "    ![Captura de pantalla mostrando el comando show tables en el terminal](https://cf-courses-data.s3.us.cloud-object-storage.appdomain.cloud/IBM-DB0231EN-SkillsNetwork/labs/MySQL/Lab%20-%20Backup%20and%20Restore%20using%20MySQL/images/A.8.png)"
            ],
            "metadata": {
                "azdata_cell_guid": "fd210854-a3da-45d6-ae69-69a79a3d8d0e"
            },
            "attachments": {}
        },
        {
            "cell_type": "code",
            "source": [
                "SHOW TABLES;"
            ],
            "metadata": {
                "azdata_cell_guid": "e3625566-5d19-41f4-b697-2c2aff314c8c",
                "language": "sql"
            },
            "outputs": [
                {
                    "output_type": "display_data",
                    "data": {
                        "text/html": "(5 row(s) affected)"
                    },
                    "metadata": {}
                },
                {
                    "output_type": "display_data",
                    "data": {
                        "text/html": "Total execution time: 00:00:01.018"
                    },
                    "metadata": {}
                },
                {
                    "output_type": "execute_result",
                    "metadata": {},
                    "execution_count": 2,
                    "data": {
                        "application/vnd.dataresource+json": {
                            "schema": {
                                "fields": [
                                    {
                                        "name": "Tables_in_world"
                                    }
                                ]
                            },
                            "data": [
                                {
                                    "Tables_in_world": "city"
                                },
                                {
                                    "Tables_in_world": "country"
                                },
                                {
                                    "Tables_in_world": "countrylanguage"
                                },
                                {
                                    "Tables_in_world": "csv_test"
                                },
                                {
                                    "Tables_in_world": "myisam_test"
                                }
                            ]
                        },
                        "text/html": [
                            "<table>",
                            "<tr><th>Tables_in_world</th></tr>",
                            "<tr><td>city</td></tr>",
                            "<tr><td>country</td></tr>",
                            "<tr><td>countrylanguage</td></tr>",
                            "<tr><td>csv_test</td></tr>",
                            "<tr><td>myisam_test</td></tr>",
                            "</table>"
                        ]
                    }
                }
            ],
            "execution_count": 2
        },
        {
            "cell_type": "markdown",
            "source": [
                "9. Recupera todos los registros relacionados con Canadá (countrycode=’CAN’) de la tabla **countrylanguage** usando el comando a continuación en el terminal:\n",
                "    \n",
                "    ```sql\n",
                "    SELECT * FROM countrylanguage WHERE countrycode='CAN';\n",
                "    ```\n",
                "    \n",
                "    ![Captura de pantalla mostrando el comando de código de país en el terminal](https://cf-courses-data.s3.us.cloud-object-storage.appdomain.cloud/IBM-DB0231EN-SkillsNetwork/labs/MySQL/Lab%20-%20Backup%20and%20Restore%20using%20MySQL/images/A.9.png)"
            ],
            "metadata": {
                "azdata_cell_guid": "d53307c9-a030-4a88-8b17-34557be54659"
            },
            "attachments": {}
        },
        {
            "cell_type": "code",
            "source": [
                " SELECT *\r\n",
                " FROM countrylanguage \r\n",
                " WHERE CountryCode = 'CAN';"
            ],
            "metadata": {
                "azdata_cell_guid": "7ffa8737-dd24-4f94-9873-72fb81e25685",
                "language": "sql"
            },
            "outputs": [
                {
                    "output_type": "display_data",
                    "data": {
                        "text/html": "(0 row(s) affected)"
                    },
                    "metadata": {}
                },
                {
                    "output_type": "display_data",
                    "data": {
                        "text/html": "Total execution time: 00:00:01.017"
                    },
                    "metadata": {}
                },
                {
                    "output_type": "execute_result",
                    "metadata": {},
                    "execution_count": 6,
                    "data": {
                        "application/vnd.dataresource+json": {
                            "schema": {
                                "fields": [
                                    {
                                        "name": "CountryCode"
                                    },
                                    {
                                        "name": "Language"
                                    },
                                    {
                                        "name": "IsOfficial"
                                    },
                                    {
                                        "name": "Percentage"
                                    }
                                ]
                            },
                            "data": []
                        },
                        "text/html": [
                            "<table>",
                            "<tr><th>CountryCode</th><th>Language</th><th>IsOfficial</th><th>Percentage</th></tr>",
                            "</table>"
                        ]
                    }
                }
            ],
            "execution_count": 6
        },
        {
            "cell_type": "markdown",
            "source": [
                "10. Observarás que el conjunto de resultados devuelto está vacío. Esto significa que actualmente faltan los registros relacionados con Canadá en la tabla. Ejecuta el script de actualización ([world\\_mysql\\_update\\_A.sql](https:\\cf-courses-data.s3.us.cloud-object-storage.appdomain.cloud\\IBM-DB0231EN-SkillsNetwork\\datasets\\World\\world_mysql_update_A.sql)) para insertar los registros que estabas buscando.\n",
                "    \n",
                "    ```sql\n",
                "    SOURCE world_mysql_update_A.sql;\n",
                "    \n",
                "    ```"
            ],
            "metadata": {
                "azdata_cell_guid": "cd2a9678-87be-4894-b56d-a667206355f2"
            },
            "attachments": {}
        },
        {
            "cell_type": "markdown",
            "source": [
                " \n",
                "11. Ahora repite el paso 9 para verificar.\n",
                "    \n",
                "    ![Captura de pantalla mostrando la tabla de la base de datos](https://cf-courses-data.s3.us.cloud-object-storage.appdomain.cloud/IBM-DB0231EN-SkillsNetwork/labs/MySQL/Lab%20-%20Backup%20and%20Restore%20using%20MySQL/images/A.11.png)"
            ],
            "metadata": {
                "azdata_cell_guid": "5611357e-8e77-43b5-81e8-18cee89b5cda"
            },
            "attachments": {}
        },
        {
            "cell_type": "markdown",
            "source": [
                "12. Sal de la sesión de línea de comandos de MySQL usando el comando a continuación en el terminal:\n",
                "    \n",
                "    ```sql\n",
                "    \\q\n",
                "    \n",
                "    ```\n",
                "    \n",
                "    ![Captura de pantalla mostrando el comando utilizado para salir de la sesión de MySQL](https://cf-courses-data.s3.us.cloud-object-storage.appdomain.cloud/IBM-DB0231EN-SkillsNetwork/labs/MySQL/Lab%20-%20Backup%20and%20Restore%20using%20MySQL/images/A.12.png)"
            ],
            "metadata": {
                "azdata_cell_guid": "af6fcfa1-500b-4102-9c52-c5d9ce0fb422"
            },
            "attachments": {}
        },
        {
            "cell_type": "markdown",
            "source": [
                "13. Ahora realiza una copia de seguridad de la tabla **countrylanguage** de la base de datos **world** usando el comando a continuación en el terminal (ingresa tu contraseña de sesión del servicio MySQL desde la pestaña de sesión del servicio MySQL si es necesario):\n",
                "    \n",
                "    ```sql\n",
                "    mysqldump --host=mysql --port=3306 --user=root --password world countrylanguage > world_countrylanguage_mysql_backup.sql\n",
                "    ```\n",
                "    \n",
                "    ![Captura de pantalla mostrando el comando utilizado para hacer una copia de seguridad de la tabla countrylanguage de la base de datos world](https://cf-courses-data.s3.us.cloud-object-storage.appdomain.cloud/IBM-DB0231EN-SkillsNetwork/labs/MySQL/Lab%20-%20Backup%20and%20Restore%20using%20MySQL/images/A.13.png)"
            ],
            "metadata": {
                "azdata_cell_guid": "5d0378e7-d07f-4167-8a8b-9e00f94fe888"
            },
            "attachments": {}
        },
        {
            "cell_type": "markdown",
            "source": [
                "14. Para ver el contenido del archivo de copia de seguridad dentro del terminal, usa el comando a continuación:\n",
                "    \n",
                "    ```\n",
                "    1cat world_countrylanguage_mysql_backup.sqlCopied!Wrap Toggled!\n",
                "    ```\n",
                "    \n",
                "    ![Captura de pantalla mostrando el comando utilizado para ver el contenido del archivo de copia de seguridad](https://cf-courses-data.s3.us.cloud-object-storage.appdomain.cloud/IBM-DB0231EN-SkillsNetwork/labs/MySQL/Lab%20-%20Backup%20and%20Restore%20using%20MySQL/images/A.14.png)"
            ],
            "metadata": {
                "azdata_cell_guid": "44047877-e11f-4ee5-afc0-d0fe54217d62"
            },
            "attachments": {}
        },
        {
            "cell_type": "markdown",
            "source": [
                "15. Ejecuta el comando a continuación en el terminal (ingresa tu contraseña de sesión del servicio MySQL desde la pestaña de sesión del servicio MySQL si es necesario):\n",
                "    \n",
                "    ```sql\n",
                "    mysql --host=mysql --port=3306 --user=root --password --execute=\"DROP TABLE world.countrylanguage;\n",
                "    ```\n",
                "    \n",
                "    ![Captura de pantalla mostrando el comando a ejecutar en el terminal](https://cf-courses-data.s3.us.cloud-object-storage.appdomain.cloud/IBM-DB0231EN-SkillsNetwork/labs/MySQL/Lab%20-%20Backup%20and%20Restore%20using%20MySQL/images/A.15.png)"
            ],
            "metadata": {
                "azdata_cell_guid": "2a24a940-2ff2-4adf-a598-db2d82bc953d"
            },
            "attachments": {}
        },
        {
            "cell_type": "markdown",
            "source": [
                "16. Para listar todos los nombres de las tablas de la base de datos world, usa el comando a continuación en el terminal (ingresa tu contraseña de sesión del servicio MySQL desde la pestaña de sesión del servicio MySQL si es necesario):\n",
                "    \n",
                "    ```\n",
                "    mysql --host=mysql --port=3306 --user=root --password --execute=\"SHOW TABLES FROM world;\"\n",
                "    ```\n",
                "    \n",
                "    ![Captura de pantalla mostrando el comando utilizado para listar todos los nombres de las tablas de la base de datos world](https://cf-courses-data.s3.us.cloud-object-storage.appdomain.cloud/IBM-DB0231EN-SkillsNetwork/labs/MySQL/Lab%20-%20Backup%20and%20Restore%20using%20MySQL/images/A.16.png)"
            ],
            "metadata": {
                "azdata_cell_guid": "387daee1-7bd1-4ded-bf0a-0bc0eaf59583"
            },
            "attachments": {}
        },
        {
            "cell_type": "markdown",
            "source": [
                "17. Observarás que la tabla **countrylanguage** falta en la base de datos world. Ahora estás en la situación donde eliminaste accidentalmente una tabla de una base de datos. Aquí es donde utilizarás la copia de seguridad de la tabla de base de datos (creaste la copia de seguridad **world\\_countrylanguage\\_mysql\\_backup.sql**) para restaurar la estructura y los datos de la tabla."
            ],
            "metadata": {
                "azdata_cell_guid": "72976268-0b41-4a54-8222-bf4206d1936e"
            },
            "attachments": {}
        },
        {
            "cell_type": "markdown",
            "source": [
                "18. Para restaurar la estructura y los datos de la tabla **countrylanguage**, usa el comando a continuación en el terminal (ingresa tu contraseña de sesión del servicio MySQL desde la pestaña de sesión del servicio MySQL si es necesario):\n",
                "    \n",
                "    ```sql\n",
                "    mysql --host=mysql --port=3306 --user=root --password world < world_countrylanguage_mysql_backup.sql\n",
                "    ```\n",
                "    \n",
                "    ![Captura de pantalla mostrando el comando utilizado para restaurar la estructura y los datos de la tabla](https://cf-courses-data.s3.us.cloud-object-storage.appdomain.cloud/IBM-DB0231EN-SkillsNetwork/labs/MySQL/Lab%20-%20Backup%20and%20Restore%20using%20MySQL/images/A.18.png)"
            ],
            "metadata": {
                "azdata_cell_guid": "cddcb1df-687c-4f14-8d98-95568e828adf"
            },
            "attachments": {}
        },
        {
            "cell_type": "markdown",
            "source": [
                "19. <span style=\"color: var(--vscode-foreground);\">Ahora repite el paso 16 para verificar.</span>  \n",
                "    \n",
                "![Captura de pantalla mostrando la verificación](https://cf-courses-data.s3.us.cloud-object-storage.appdomain.cloud/IBM-DB0231EN-SkillsNetwork/labs/MySQL/Lab%20-%20Backup%20and%20Restore%20using%20MySQL/images/A.19.png)"
            ],
            "metadata": {
                "azdata_cell_guid": "431fecb3-81bc-4238-a6b9-587b504b63d5"
            },
            "attachments": {}
        },
        {
            "cell_type": "markdown",
            "source": [
                "20. Nuevamente recupera todos los registros relacionados con Canadá (countrycode=’CAN’) de la tabla **countrylanguage** usando el comando a continuación en el terminal (ingresa tu contraseña de sesión del servicio MySQL desde la pestaña de sesión del servicio MySQL si es necesario):\n",
                "    \n",
                "    ```sql\n",
                "    mysql --host=mysql --port=3306 --user=root --password --execute=\"SELECT * FROM world.countrylanguage WHERE countrycode='CAN';\"\n",
                "    ```\n",
                "    \n",
                "    ![Captura de pantalla mostrando todos los registros relacionados con Canadá de la tabla countrylanguage](https://cf-courses-data.s3.us.cloud-object-storage.appdomain.cloud/IBM-DB0231EN-SkillsNetwork/labs/MySQL/Lab%20-%20Backup%20and%20Restore%20using%20MySQL/images/A.20.png)"
            ],
            "metadata": {
                "azdata_cell_guid": "66d4133d-6ff1-43f8-815c-b0015d949356"
            },
            "attachments": {}
        }
    ]
}