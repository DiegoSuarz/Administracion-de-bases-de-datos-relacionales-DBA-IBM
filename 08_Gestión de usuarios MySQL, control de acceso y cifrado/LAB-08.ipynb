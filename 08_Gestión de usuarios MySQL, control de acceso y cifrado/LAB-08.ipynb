{
    "metadata": {
        "kernelspec": {
            "name": "SQL",
            "display_name": "SQL",
            "language": "sql"
        },
        "language_info": {
            "name": "sql",
            "version": ""
        }
    },
    "nbformat_minor": 2,
    "nbformat": 4,
    "cells": [
        {
            "cell_type": "markdown",
            "source": [
                "# Laboratorio: Gestión de Usuarios de MySQL, Control de Acceso y Cifrado\n",
                "\n",
                "<span style=\"color: rgb(102, 185, 254); font-size: 1.75em; font-weight: bold;\"><br></span>\n",
                "\n",
                "<span style=\"color: rgb(102, 185, 254); font-size: 1.75em; font-weight: bold;\">Objetivos</span>  \n",
                "\n",
                "Después de completar este laboratorio, podrás:\n",
                "\n",
                "- Gestionar cuentas de usuario y roles de MySQL utilizando la herramienta de interfaz gráfica de usuario (GUI) phpMyAdmin\n",
                "- Controlar el acceso a las bases de datos de MySQL y sus objetos\n",
                "- Asegurar tus datos añadiendo una capa adicional de seguridad utilizando cifrado de datos\n",
                "\n",
                "## Requisitos previos\n",
                "\n",
                "### Base de datos\n",
                "\n",
                "En este laboratorio, utilizarás una base de datos de pedidos de clientes, que es una versión modificada de la base de datos de origen. Se recomienda que utilices la base de datos proporcionada en lugar de la base de datos del origen original para seguir las instrucciones del laboratorio con éxito.  \n",
                "El siguiente diagrama ERD muestra el esquema de la base de datos de pedidos de clientes.\n",
                "\n",
                "![](https://cf-courses-data.s3.us.cloud-object-storage.appdomain.cloud/acT-IEy7UHJyGxp8UXNNrQ/1.png)"
            ],
            "metadata": {
                "azdata_cell_guid": "95144d8c-c020-40e9-8a8b-ee0aff353e08"
            },
            "attachments": {}
        },
        {
            "cell_type": "markdown",
            "source": [
                "# Ejercicio 1: Gestionar cuentas de usuario y roles de MySQL\n",
                "\n",
                "En este ejercicio, aprenderás a gestionar cuentas de usuario y roles de MySQL utilizando phpMyAdmin. La gestión de usuarios es el proceso de controlar qué usuarios pueden conectarse al servidor MySQL y qué permisos tienen en cada base de datos. phpMyAdmin no maneja la gestión de usuarios; más bien, pasa el nombre de usuario y la contraseña a MySQL, que luego determina si un usuario tiene permiso para realizar una acción particular. Dentro de phpMyAdmin, los administradores tienen control total sobre la creación de usuarios, la visualización y edición de privilegios para usuarios existentes y la eliminación de usuarios.\n",
                "\n",
                "#### Tarea 1\n",
                "\n",
                "1. Ve a **Skills Network Toolbox** haciendo clic en el siguiente ícono del IDE en la nube lanzado lado a lado.\n",
                "2. En el menú desplegable **Bases de datos**, haz clic en **MySQL** para abrir la pestaña de sesión del servicio MySQL.\n",
                "3. Haz clic en el botón **Crear** y espera hasta que se inicie la sesión del servicio MySQL.\n",
                "\n",
                "![](https://cf-courses-data.s3.us.cloud-object-storage.appdomain.cloud/-FKNlgJAMBckyNsPIAKKXA/2.jpg)\n",
                "\n",
                "El servidor MySQL tardará unos momentos en iniciarse. Una vez que esté listo, verás la etiqueta verde “Activo” en la parte superior de la ventana.\n",
                "\n",
                "![](https://cf-courses-data.s3.us.cloud-object-storage.appdomain.cloud/2u_5v_wz-GN3EpQUpgQmQg/3-.png)\n",
                "\n",
                "4. Siempre que se te pida ingresar tu contraseña de sesión del servicio MySQL desde la pestaña de sesión del servicio MySQL en cualquier paso del laboratorio, copia la contraseña haciendo clic en el pequeño botón de copia a la derecha del bloque de contraseña. Pega la contraseña en la terminal usando **Ctrl + V** (Mac: ⌘ + V) y presiona **Enter** en el teclado. Por razones de seguridad, no verás la contraseña mientras se ingresa en la terminal.\n",
                "\n",
                "#### Tarea 2\n",
                "\n",
                "1. Haz clic en el botón **phpMyAdmin** desde la pestaña de sesión del servicio MySQL. Verás la herramienta GUI de phpMyAdmin.\n",
                "\n",
                "![](https://cf-courses-data.s3.us.cloud-object-storage.appdomain.cloud/W-cTbrqqky1nzhc2IeJCgw/4.jpg)\n",
                "\n",
                "2. En la vista de árbol, haz clic en **Nuevo** para crear una nueva base de datos vacía. Luego, ingresa **customerorders** como el nombre de la base de datos y haz clic en **Crear**.\n",
                "\n",
                "![](https://cf-courses-data.s3.us.cloud-object-storage.appdomain.cloud/Ncl2Q9-57saChyFkbpxg3A/5.jpg)\n",
                "\n",
                "3. Ve a la pestaña **Importar**. Sube el siguiente archivo de script SQL usando el botón **Elegir archivo** (primero, haz clic derecho en este [archivo de script SQL](https://cf-courses-data.s3.us.cloud-object-storage.appdomain.cloud/jkG6RB4UjneuW3M21S_wcw/customerorders%20-1-.sql) para descargarlo en el almacenamiento de tu computadora local). Luego haz clic en el botón **Importar** en la parte inferior. Se te notificará cuando la importación se haya completado con éxito. Haz clic en el ícono de **Inicio**.\n",
                "\n",
                "![](https://cf-courses-data.s3.us.cloud-object-storage.appdomain.cloud/6LoOCPt1dFLt8XXuNJkUFA/6-.png)![](https://cf-courses-data.s3.us.cloud-object-storage.appdomain.cloud/32tZ-8wRx_kX6TRSYbnFVw/7-.png)![](https://cf-courses-data.s3.us.cloud-object-storage.appdomain.cloud/NzdexL0ShP8_cITanmETOw/7--.png)![](https://cf-courses-data.s3.us.cloud-object-storage.appdomain.cloud/dqaHrdmQcbBMR0KrjZP58w/8-.png)\n",
                "\n",
                "4. Ahora, crearás una cuenta de usuario con el rol personalizado “sales\\_rep.” El rol sales\\_rep tendrá acceso a tablas limitadas. Ve a la pestaña **Cuentas de usuario** y haz clic en **Agregar cuenta de usuario**.\n",
                "\n",
                "![](https://cf-courses-data.s3.us.cloud-object-storage.appdomain.cloud/iZ9rLo-YCL-F4PmFsjg46A/9.png)![](https://cf-courses-data.s3.us.cloud-object-storage.appdomain.cloud/ghfn21YMT7guEgLXW_JmXw/10.jpg)\n",
                "\n",
                "5. Completa la Información de Inicio de Sesión como se muestra en la siguiente imagen (ingresa tu propia contraseña). Bajo Privilegios globales, selecciona las opciones SELECT, INSERT, UPDATE bajo Datos. Desplázate hacia abajo y haz clic en **Continuar**.\n",
                "\n",
                "![](https://cf-courses-data.s3.us.cloud-object-storage.appdomain.cloud/ZPbgyc_jMI0EfoTuWEo_kg/11-.png)![](https://cf-courses-data.s3.us.cloud-object-storage.appdomain.cloud/cgkdoU9oMLboalV7ITMM0A/12-.png)\n",
                "\n",
                "6. Has creado con éxito una cuenta de usuario con los privilegios apropiados.\n",
                "\n",
                "![](https://cf-courses-data.s3.us.cloud-object-storage.appdomain.cloud/oDDpw-yIWZ8QTkq7q2aZaA/13-.png)"
            ],
            "metadata": {
                "azdata_cell_guid": "75261904-a082-4e7f-b920-31ba39f42b6f"
            },
            "attachments": {}
        },
        {
            "cell_type": "markdown",
            "source": [
                "# Ejercicio 2: Controlar el acceso a bases de datos MySQL y sus objetos\n",
                "\n",
                "En este ejercicio, aprenderás a controlar el acceso a bases de datos MySQL y sus objetos.\n",
                "\n",
                "1. Haciendo una excepción a la definición de usuario del rol sales\\_rep que creaste anteriormente, modificarás los privilegios de este usuario. Eliminarás el acceso a las tablas de pagos para el usuario sales\\_rep y restringirás a sales\\_rep de actualizar todas las demás columnas, excepto la columna creditLimit de la tabla customers de la base de datos customerorders. Ve a la pestaña **Inicio \\> Cuentas de usuario**. Haz clic en la opción **Editar privilegios** del nombre de usuario **sales\\_rep**.\n",
                "\n",
                "![](https://cf-courses-data.s3.us.cloud-object-storage.appdomain.cloud/k98LVQGgLXE3h9NhVAZoXg/14-.png)\n",
                "\n",
                "2. En la subpestaña **Base de datos**, selecciona la base de datos **customerorders** y haz clic en **Ir**.\n",
                "\n",
                "![](https://cf-courses-data.s3.us.cloud-object-storage.appdomain.cloud/0iIfoMUD2KFNLdQ0uw5msA/15-.png)\n",
                "\n",
                "3. En **Privilegios específicos de la base de datos**, selecciona las opciones SELECT, INSERT y UPDATE y haz clic en **Ir** en la parte inferior.\n",
                "\n",
                "![](https://cf-courses-data.s3.us.cloud-object-storage.appdomain.cloud/T3GMSRGAM66ZMGO8TdefBg/16-.png)\n",
                "\n",
                "4. Cambia a la subpestaña **Tabla**. Selecciona la **tabla** payments del menú desplegable y haz clic en **Ir**.\n",
                "\n",
                "![](https://cf-courses-data.s3.us.cloud-object-storage.appdomain.cloud/W5RFMrbIZ9bMaog_QJ6kig/16--.png)\n",
                "\n",
                "5. Haz clic en la opción Ninguno en todas las secciones de SELECT, INSERT, UPDATE, REFERENCES y haz clic en **Ir**.\n",
                "\n",
                "![](https://cf-courses-data.s3.us.cloud-object-storage.appdomain.cloud/Z3ZiM1tKxtJVtsLaeRhWZQ/16---.png)\n",
                "\n",
                "6. Como ejercicio práctico, realiza los pasos para eliminar el acceso a las tablas employees y offices para el usuario **sales\\_rep**.\n",
                "    \n",
                "7. Cambia a la subpestaña **Tabla**. Selecciona la tabla **customers** del menú desplegable y haz clic en **Ir**.\n",
                "    \n",
                "\n",
                "![](https://cf-courses-data.s3.us.cloud-object-storage.appdomain.cloud/WlGEuK3Pj8RdtMLUm8M_yw/17-.png)\n",
                "\n",
                "8. En **Privilegios específicos de la tabla**, configura todos los comandos SQL y su acceso personalizado a las columnas de la tabla customers. Luego haz clic en **Ir**. Esta configuración de privilegios específicos de la tabla restringirá a **sales\\_rep** de actualizar todas las demás columnas, excepto la columna **creditLimit** de la tabla **customers** de la base de datos **customerorders**.\n",
                "\n",
                "![](https://cf-courses-data.s3.us.cloud-object-storage.appdomain.cloud/dfLXMenqhVycAM6t1mcotA/18-.png)![](https://cf-courses-data.s3.us.cloud-object-storage.appdomain.cloud/cOzW7RhlK4h604-0kaGNuA/19.jpg)\n",
                "\n",
                "9. Como ejercicio práctico, restringe el acceso para actualizar la columna “buyPrice” de la tabla product por parte del usuario sales\\_rep."
            ],
            "metadata": {
                "azdata_cell_guid": "71b2d21b-3b49-44c5-8375-4e6d9b64ceaa"
            },
            "attachments": {}
        },
        {
            "cell_type": "markdown",
            "source": [
                "# Ejercicio 3: Asegurar datos usando cifrado\n",
                "\n",
                "En este ejercicio, aprenderás a asegurar tus datos añadiendo una capa extra de seguridad mediante el cifrado de datos. Ciertas partes de tu base de datos pueden contener información sensible que no debería ser almacenada en texto plano. Aquí es donde entra el cifrado.\n",
                "\n",
                "Implementarás el cifrado y descifrado de una columna en la base de datos customerorders utilizando el algoritmo AES (Estándar de Cifrado Avanzado) oficial. AES es un cifrado simétrico donde se utiliza la misma clave para cifrar y descifrar los datos. El estándar AES permite varias longitudes de clave. Por defecto, se utiliza una longitud de clave de 128 bits. Se pueden utilizar longitudes de clave de 196 o 256 bits. La longitud de la clave es un compromiso entre rendimiento y seguridad.\n",
                "\n",
                "1. Haz clic en el botón **MySQL CLI** en la pestaña de sesión del servicio mysql.\n",
                "\n",
                "![](https://cf-courses-data.s3.us.cloud-object-storage.appdomain.cloud/ITACT7Oo0SwCOOe6W11idA/20.jpg)"
            ],
            "metadata": {
                "azdata_cell_guid": "3eb5efd2-a2da-4daf-b865-77bf3a9b9617"
            },
            "attachments": {}
        },
        {
            "cell_type": "markdown",
            "source": [
                "2. Primero, necesitarás hashear tu frase de paso (considera que tu frase de paso es **Mi frase de paso secreta**) con una longitud de hash específica (considera que tu longitud de hash es **512**) utilizando una función hash (aquí usarás la función hash de la familia **SHA-2**). Es una buena práctica hashear la frase de paso que utilizas, ya que almacenar la frase de paso en texto plano es una vulnerabilidad de seguridad significativa. Usa el siguiente comando en la terminal para utilizar el algoritmo SHA2 para hashear tu frase de paso y asignarlo a la variable key\\_str:\n",
                "\n",
                "```bash\n",
                "SET @key_str = SHA2('My secret passphrase', 512);\n",
                "```"
            ],
            "metadata": {
                "azdata_cell_guid": "00852e6a-c7f5-459b-b6c9-8a337a31cd61"
            },
            "attachments": {}
        },
        {
            "cell_type": "markdown",
            "source": [
                "3. Ahora, echemos un vistazo a la base de datos customerorders. Primero, te conectarás a la base de datos ingresando el siguiente comando en la CLI:\n",
                "\n",
                "```bash\n",
                "USE customerorders;\n",
                "```"
            ],
            "metadata": {
                "azdata_cell_guid": "950b7106-fb03-41f5-ba8c-0b82ae85a20c"
            },
            "attachments": {}
        },
        {
            "cell_type": "markdown",
            "source": [
                "4. A continuación, echemos un vistazo rápido a la tabla de clientes en nuestra base de datos con el siguiente comando.\n",
                "\n",
                "\n",
                "```bash\n",
                "SELECT * FROM customers LIMIT 5;\n",
                "```\n",
                "\n",
                "![](https://cf-courses-data.s3.us.cloud-object-storage.appdomain.cloud/L06n882eXcMm9uISK9zTcg/21.jpg)\n",
                "\n",
                "Para fines de demostración, supongamos que la última columna de la tabla, etiquetada como addressLine1, contiene datos sensibles; almacenar tales datos sensibles en texto plano es una enorme preocupación de seguridad, así que procedamos a cifrar esa columna."
            ],
            "metadata": {
                "azdata_cell_guid": "02fec38c-240b-4a1e-b406-72526154e69e"
            },
            "attachments": {}
        },
        {
            "cell_type": "markdown",
            "source": [
                "5. Para cifrar la columna addressLine1, primero convertirás los datos en la columna en cadenas de bytes binarias de longitud 255 ingresando el siguiente comando en la CLI.\n",
                "\n",
                "```bash\n",
                "ALTER TABLE customers MODIFY COLUMN addressLine1 varbinary(255);\n",
                "\n",
                "```\n",
                "\n",
                "![](https://cf-courses-data.s3.us.cloud-object-storage.appdomain.cloud/VpPyQTW8lZkNhQtZ-6o-0g/22.jpg)"
            ],
            "metadata": {
                "azdata_cell_guid": "002a73e9-fb1a-41b2-af82-d74128956183"
            },
            "attachments": {}
        },
        {
            "cell_type": "markdown",
            "source": [
                "6. Ahora, para cifrar la columna addressLine1, ejecuta el siguiente comando utilizando el estándar de cifrado AES y nuestra frase de paso hasheada.\n",
                "\n",
                "```\n",
                "UPDATE customers SET addressLine1  = AES_ENCRYPT(addressLine1 , @key_str);\n",
                "```\n",
                "![](https://cf-courses-data.s3.us.cloud-object-storage.appdomain.cloud/iS0xgzxmLrEt3X8maax33w/23.jpg)"
            ],
            "metadata": {
                "azdata_cell_guid": "e54ed47d-4151-43f1-a2dd-434b2ad65de7"
            },
            "attachments": {}
        },
        {
            "cell_type": "markdown",
            "source": [
                "7. Procedamos a ver si la columna fue cifrada con éxito echando otro vistazo a la tabla de clientes. Ejecuta el mismo comando que en el paso 4.\n",
                "\n",
                "```\n",
                "SELECT * FROM customers LIMIT 5;\n",
                "```\n",
                "![](https://cf-courses-data.s3.us.cloud-object-storage.appdomain.cloud/kmFTJ2lwHMUOdhgbJFsntA/24.jpg)"
            ],
            "metadata": {
                "azdata_cell_guid": "45c9384e-27ca-4e01-91d4-c67c33ca9f4d"
            },
            "attachments": {}
        },
        {
            "cell_type": "markdown",
            "source": [
                "8. Los datos supuestamente sensibles ahora están cifrados y protegidos de miradas curiosas. Sin embargo, aún deberíamos tener una forma de acceder a los datos cifrados cuando sea necesario. Para hacer esto, utilizamos el comando AES\\_DECRYPT, y dado que AES es simétrico, usamos la misma clave tanto para el cifrado como para el descifrado. En nuestro caso, recordemos que la clave era una frase de contraseña, que fue hasheada y almacenada en la variable key\\_str. Supongamos que necesitamos acceder a los datos sensibles en esa columna. Podemos hacerlo ingresando el siguiente comando en la CLI:\n",
                "\n",
                "```\n",
                "SELECT cast(AES_DECRYPT(addressLine1 , @key_str) as char(255)) FROM customers;\n",
                "```\n",
                "![](https://cf-courses-data.s3.us.cloud-object-storage.appdomain.cloud/vLD6t2OTiDLnuYqPGFhWtA/25.jpg)"
            ],
            "metadata": {
                "azdata_cell_guid": "91c273a2-35bd-4a47-bdc8-3b5b3c54709c"
            },
            "attachments": {}
        },
        {
            "cell_type": "markdown",
            "source": [
                "9. Como ejercicio práctico, necesitas cifrar/descifrar la columna cardNumber en la tabla payments."
            ],
            "metadata": {
                "azdata_cell_guid": "532c1e94-1aa1-4a24-8502-2a71849b7cdd"
            },
            "attachments": {}
        },
        {
            "cell_type": "markdown",
            "source": [
                "# Resumen\n",
                "\n",
                "¡Felicidades! En este laboratorio, aprendiste a gestionar cuentas y roles de usuario de MySQL utilizando la herramienta de interfaz gráfica de usuario (GUI) phpMyAdmin. También aprendiste a controlar el acceso a las bases de datos de MySQL y sus objetos. Finalmente, aprendiste a asegurar tus datos, añadiendo una capa adicional de seguridad mediante la encriptación de datos."
            ],
            "metadata": {
                "azdata_cell_guid": "bc1d256f-3836-44c6-8ac7-7729745e28a3"
            },
            "attachments": {}
        }
    ]
}