{
    "metadata": {
        "kernelspec": {
            "name": "SQL",
            "display_name": "SQL",
            "language": "sql"
        },
        "language_info": {
            "name": "sql",
            "version": ""
        }
    },
    "nbformat_minor": 2,
    "nbformat": 4,
    "cells": [
        {
            "cell_type": "markdown",
            "source": [
                "# Laboratorio Práctico: Copia de Seguridad y Restauración usando PostgreSQL\n",
                "\n",
                "En este laboratorio, aprenderás a usar la Interfaz de Línea de Comandos (CLI) de PostgreSQL para restaurar una base de datos completa a partir de una copia de seguridad. Luego, utilizando una combinación de la CLI y pgAdmin, que es una Interfaz Gráfica de Usuario (GUI) para PostgreSQL, realizarás algunos cambios en esta base de datos y realizarás una copia de seguridad completa. Finalmente, eliminarás esta base de datos para practicar una restauración completa en el escenario de una eliminación accidental.  \n",
                "\n",
                "# Software utilizado en este laboratorio\n",
                "\n",
                "En este laboratorio, estarás utilizando PostgreSQL. Es un popular sistema de gestión de bases de datos relacional objeto de código abierto (RDBMS) capaz de realizar una gran cantidad de tareas de administración de bases de datos, como almacenar, manipular, recuperar y archivar datos.\n",
                "\n",
                "Para completar este laboratorio, accederás al servicio de PostgreSQL a través del IBM Skills Network (SN) Cloud IDE, que es un entorno de desarrollo virtual que utilizarás a lo largo de este curso.\n",
                "\n",
                "# Base de datos utilizada en este laboratorio\n",
                "\n",
                "En este laboratorio, utilizarás una base de datos: de [https://postgrespro.com/education/demodb](https://postgrespro.com/education/demodb) distribuida bajo la [licencia de PostgreSQL](https://www.postgresql.org/about/licence/). Almacena un mes de datos sobre vuelos de aerolíneas en Rusia y está organizada según el siguiente esquema:\n",
                "\n",
                "![DB_Schema](https://cf-courses-data.s3.us.cloud-object-storage.appdomain.cloud/IBM-DB0231EN-SkillsNetwork/labs/PostgreSQL/Lab%20-%20Backup%20and%20Restore%20using%20PostgreSQL/images/DB_schema.png)\n",
                "\n",
                "## Objetivos\n",
                "\n",
                "Después de completar este laboratorio, podrás utilizar la CLI de PostgreSQL y pgAdmin para:\n",
                "\n",
                "- Restaurar una base de datos completa desde una copia de seguridad\n",
                "- Actualizar una base de datos y realizar una copia de seguridad completa\n",
                "- Eliminar una base de datos y luego restaurarla\n",
                "\n",
                "## Lanzando PostgreSQL en Cloud IDE\n",
                "\n",
                "Para comenzar con este laboratorio, lanza PostgreSQL utilizando el Cloud IDE. Puedes hacer esto siguiendo estos pasos:\n",
                "\n",
                "1. Haz clic en el botón de extensión de Skills Network en el lado izquierdo de la ventana.\n",
                "    \n",
                "2. Abre el menú desplegable “DATABASES” y haz clic en “PostgreSQL”.\n",
                "    \n",
                "3. Haz clic en el botón “Create”. PostgreSQL puede tardar unos momentos en iniciarse.\n",
                "    \n",
                "\n",
                "![](https://cf-courses-data.s3.us.cloud-object-storage.appdomain.cloud/HJVTAmsGsMH8W1863Zqn-A/k2-postgre-create.png)"
            ],
            "metadata": {
                "azdata_cell_guid": "1abce5a9-8de2-4c74-abf9-f6210f9ba4eb"
            },
            "attachments": {}
        },
        {
            "cell_type": "markdown",
            "source": [
                "# Ejercicio 1: Restaurar una Base de Datos Completa desde una Copia de Seguridad\n",
                "\n",
                "**Primero, necesitaremos descargar la base de datos.**\n",
                "\n",
                "1. Abre una nueva terminal haciendo clic en el botón “Nueva Terminal” cerca de la parte inferior de la interfaz.\n",
                "\n",
                "![](https://cf-courses-data.s3.us.cloud-object-storage.appdomain.cloud/V2lktse46NV-9bvQ2KNtZQ/k2-5.png)"
            ],
            "metadata": {
                "azdata_cell_guid": "67b46f83-e929-41e1-8671-1ca7442d0dae"
            },
            "attachments": {}
        },
        {
            "cell_type": "code",
            "source": [
                ""
            ],
            "metadata": {
                "azdata_cell_guid": "53d96af8-ebdc-49cf-8515-8116d3859df6",
                "language": "sql"
            },
            "outputs": [],
            "execution_count": null
        },
        {
            "cell_type": "markdown",
            "source": [
                "#   \n",
                "\n",
                "3. Cerca de la parte inferior de la ventana, haz clic en el botón “CLI de PostgreSQL” para iniciar la Interfaz de Línea de Comando.![](https://cf-courses-data.s3.us.cloud-object-storage.appdomain.cloud/CqbupbU5X1_p_UTI0S398A/k2-6-postgresqlCLI.png)"
            ],
            "metadata": {
                "azdata_cell_guid": "14ba1cfa-c1af-423d-8c62-430d164b7605"
            },
            "attachments": {}
        },
        {
            "cell_type": "markdown",
            "source": [
                "4. En la CLI de PostgreSQL, escribe el comando `\\i <file_name>.` En tu caso, el nombre del archivo será el nombre del archivo que descargaste, `flights_RUSSIA_small.sql`. Esto restaurará los datos en una nueva base de datos llamada `demo`.\n",
                "    \n",
                "    ```\n",
                "    1\\i flights_RUSSIA_small.sqlCopied!Wrap Toggled!\n",
                "    \n",
                "    ```\n",
                "    \n",
                "\n",
                "Las restauraciones pueden tardar unos momentos en completarse."
            ],
            "metadata": {
                "azdata_cell_guid": "65f3840c-babb-4672-976d-0140ad03fb48"
            },
            "attachments": {}
        },
        {
            "cell_type": "markdown",
            "source": [
                "5. Después de que la restauración se complete, una forma de verificar que la base de datos ha sido restaurada es con el siguiente comando, que lista todas las tablas en el esquema de la base de datos actual.\n",
                "    \n",
                "    ```\n",
                "    \\dt\n",
                "    \n",
                "    ```\n",
                "    \n",
                "Deberías ver la siguiente salida:\n",
                "![Captura de pantalla que muestra las tablas en el esquema de la base de datos](https://cf-courses-data.s3.us.cloud-object-storage.appdomain.cloud/IBM-DB0231EN-SkillsNetwork/labs/PostgreSQL/Lab%20-%20Backup%20and%20Restore%20using%20PostgreSQL/images/SC_3.png)"
            ],
            "metadata": {
                "azdata_cell_guid": "1a044206-1042-4afb-93a1-2f46c4d2cac9"
            }
        },
        {
            "cell_type": "markdown",
            "source": [
                "# Ejercicio 2: Modificar la Base de Datos y Realizar una Copia de Seguridad\n",
                "\n",
                "## Tarea A: Modificar la Base de Datos con la CLI\n",
                "\n",
                "1. Una de las tablas en el esquema de la base de datos es `aircrafts_data`. Puedes ver el contenido de esa tabla ejecutando el siguiente comando en la **CLI** de PostgreSQL:\n",
                "    \n",
                "    ```\n",
                "    1SELECT * FROM aircrafts_data;Copied!Wrap Toggled!\n",
                "    ```\n",
                "    \n",
                "    Esto te mostrará los modelos de aviones en la base de datos, su código y su alcance en kilómetros.\n",
                "    \n",
                "    ![Captura de pantalla mostrando modelos de aviones, códigos de aviones y rangos de aviones en la base de datos](https://cf-courses-data.s3.us.cloud-object-storage.appdomain.cloud/IBM-DB0231EN-SkillsNetwork/labs/PostgreSQL/Lab%20-%20Backup%20and%20Restore%20using%20PostgreSQL/images/SC_4_5.png)"
            ],
            "metadata": {
                "azdata_cell_guid": "b05e5ebd-223e-4bc5-80c8-b2764c8e2c4c"
            },
            "attachments": {}
        },
        {
            "cell_type": "markdown",
            "source": [
                "1. Supongamos que se está añadiendo un nuevo modelo de avión a la flota, y tú, como administrador de la base de datos, eres responsable de actualizar la base de datos para reflejar esta adición. El avión que desean añadir es el [Airbus A380](https://en.wikipedia.org/wiki/Airbus_A380), que tiene un alcance de 15,700 km y un código de avión “380”. Puedes hacer esto ejecutando el siguiente comando en la CLI de PostgreSQL:\n",
                "    \n",
                "    ```\n",
                "    1INSERT INTO aircrafts_data(aircraft_code, model, range) VALUES (380, '{\"en\": \"Airbus A380-800\"}', 15700);Copied!Wrap Toggled!\n",
                "    ```\n",
                "    \n",
                "2. Para confirmar que la información se ingresó correctamente en la base de datos, puedes leer la tabla `aircrafts_data` nuevamente usando:\n",
                "    \n",
                "    ```\n",
                "    1SELECT * FROM aircrafts_data;Copied!Wrap Toggled!\n",
                "    ```\n",
                "    \n",
                "    La salida se verá así:\n",
                "    \n",
                "    ![Captura de pantalla destacando la nueva entrada](https://cf-courses-data.s3.us.cloud-object-storage.appdomain.cloud/IBM-DB0231EN-SkillsNetwork/labs/PostgreSQL/Lab%20-%20Backup%20and%20Restore%20using%20PostgreSQL/images/SC_5_5.png)\n",
                "    \n",
                "    Como puedes ver, hay una nueva entrada en la tabla correspondiente al nuevo avión añadido a la flota.\n",
                "    \n",
                "##   \n",
                "3. Una vez que se abra la GUI de pgAdmin, haz clic en la pestaña `Servers` en el lado izquierdo de la página. Se te pedirá que ingreses una contraseña.\n",
                "    \n",
                "    ![Captura de pantalla destacando la pestaña Servers](https://cf-courses-data.s3.us.cloud-object-storage.appdomain.cloud/IBM-DB0231EN-SkillsNetwork/labs/PostgreSQL/Lab%20-%20Backup%20and%20Restore%20using%20PostgreSQL/images/pgAdmin_2.png)\n",
                "    \n",
                "4. Para recuperar tu contraseña, haz clic en la pestaña “PostgreSQL” cerca de la parte superior de la interfaz.\n",
                "    \n",
                "5. Haz clic en el ícono de Copiar a la izquierda de tu contraseña para copiar la contraseña de sesión en tu portapapeles.\n",
                "    \n",
                "![](https://cf-courses-data.s3.us.cloud-object-storage.appdomain.cloud/dKbNRh0o78x5RbrhCpbwHQ/k2-8-pospass.png)\n",
                "![](https://cf-courses-data.s3.us.cloud-object-storage.appdomain.cloud/9tbXCwAw9akrzqxv0cOBYw/k2-9.png)\n",
                "6. Regresa a la pestaña “pgAdmin” y pega tu contraseña, luego haz clic en `OK`.\n",
                "    \n",
                "7. Haz clic en `Postgres > Databases`.\n",
                "    \n",
                "8. Haz clic derecho en `demo` y selecciona el botón `Backup`.\n",
                "    \n",
                "    ![Captura de pantalla destacando el menú desplegable de Postgres, el menú desplegable de Bases de Datos, el menú desplegable de Demo y el botón de Copia de Seguridad](https://cf-courses-data.s3.us.cloud-object-storage.appdomain.cloud/IBM-DB0231EN-SkillsNetwork/labs/PostgreSQL/Lab%20-%20Backup%20and%20Restore%20using%20PostgreSQL/images/pgAdmin_4.png)\n",
                "    \n",
                "9. Ingresa un nombre para la copia de seguridad (por ejemplo, “demo\\_backup”), establece el `Formato` en `Tar`, y luego haz clic en el botón “Backup”.\n",
                "    \n",
                "    ![Captura de pantalla destacando Nombre de Archivo, Formato y botón de Copia de Seguridad](https://cf-courses-data.s3.us.cloud-object-storage.appdomain.cloud/IBM-DB0231EN-SkillsNetwork/labs/PostgreSQL/Lab%20-%20Backup%20and%20Restore%20using%20PostgreSQL/images/pgAdmin_5.png)"
            ],
            "metadata": {
                "azdata_cell_guid": "a0aebc2d-cc8e-4f62-bf10-6a960927e066"
            }
        },
        {
            "cell_type": "markdown",
            "source": [
                "# Ejercicio 3: Restaurar una Copia de Seguridad Completa después de una Eliminación Accidental\n",
                "\n",
                "En este ejercicio, supongamos que te encuentras en una situación donde accidentalmente eliminaste toda la base de datos. Afortunadamente, hiciste una copia de seguridad completa de la base de datos en el ejercicio anterior, que utilizarás para restaurar la base de datos.\n",
                "\n",
                "## Tarea A: Eliminar “Accidentalmente” la Base de Datos\n",
                "\n",
                "1. En la interfaz gráfica de pgAdmin, haz clic derecho en la base de datos `demo` y luego haz clic en el botón “Eliminar/Eliminar”.\n",
                "    \n",
                "    ![Captura de pantalla resaltando el menú desplegable de demo y el botón Eliminar/Eliminar](https://cf-courses-data.s3.us.cloud-object-storage.appdomain.cloud/IBM-DB0231EN-SkillsNetwork/labs/PostgreSQL/Lab%20-%20Backup%20and%20Restore%20using%20PostgreSQL/images/pgAdmin_6.png)\n",
                "    \n",
                "2. Cuando se te pida, haz clic en “Sí” para confirmar la eliminación de la base de datos.\n",
                "    \n",
                "3. Verás que la base de datos `demo` ya no está en la lista, lo que verifica que la has eliminado.\n",
                "    \n",
                "    ![Captura de pantalla mostrando que la base de datos demo ya no está en la lista](https://cf-courses-data.s3.us.cloud-object-storage.appdomain.cloud/IBM-DB0231EN-SkillsNetwork/labs/PostgreSQL/Lab%20-%20Backup%20and%20Restore%20using%20PostgreSQL/images/pgAdmin_7.png)\n",
                "    \n",
                "\n",
                "## Tarea B: Restaurar la Base de Datos usando la Copia de Seguridad Completa\n",
                "\n",
                "Ahora utilizarás la copia de seguridad completa que creaste en el Ejercicio 2 para restaurar la base de datos que fue eliminada.\n",
                "\n",
                "1. Primero, necesitarás una base de datos vacía en la que restaurar la base de datos `demo`. Crea una nueva base de datos en pgAdmin haciendo clic derecho en “Bases de datos” y luego haciendo clic en “Crear” \\> “Base de datos…”.\n",
                "    \n",
                "    ![Captura de pantalla resaltando bases de datos, crear y base de datos](https://cf-courses-data.s3.us.cloud-object-storage.appdomain.cloud/IBM-DB0231EN-SkillsNetwork/labs/PostgreSQL/Lab%20-%20Backup%20and%20Restore%20using%20PostgreSQL/images/pgAdmin_8.png)\n",
                "    \n",
                "2. Nombra la base de datos en la que restaurarás la base de datos original `demo` (por ejemplo, `restored_demo`), luego haz clic en el botón “Guardar” en la esquina inferior derecha.\n",
                "    \n",
                "    ![Captura de pantalla resaltando el campo de nombre y el botón de guardar](https://cf-courses-data.s3.us.cloud-object-storage.appdomain.cloud/IBM-DB0231EN-SkillsNetwork/labs/PostgreSQL/Lab%20-%20Backup%20and%20Restore%20using%20PostgreSQL/images/pgAdmin_9.png)\n",
                "    \n",
                "3. A continuación, para restaurar la copia de seguridad que creaste en la Tarea A en esta nueva base de datos, haz clic derecho en la base de datos que creaste (por ejemplo, `restored_demo`). Luego haz clic en el botón “Restaurar…”.\n",
                "    \n",
                "    ![Captura de pantalla resaltando restored_demo y el botón de restaurar](https://cf-courses-data.s3.us.cloud-object-storage.appdomain.cloud/IBM-DB0231EN-SkillsNetwork/labs/PostgreSQL/Lab%20-%20Backup%20and%20Restore%20using%20PostgreSQL/images/pgAdmin_10.png)\n",
                "    \n",
                "4. Haz clic en el botón con tres puntos junto al cuadro de Nombre de archivo.\n",
                "    \n",
                "    ![Captura de pantalla resaltando el botón con tres puntos](https://cf-courses-data.s3.us.cloud-object-storage.appdomain.cloud/IBM-DB0231EN-SkillsNetwork/labs/PostgreSQL/Lab%20-%20Backup%20and%20Restore%20using%20PostgreSQL/images/pgAdmin_11.png)\n",
                "    \n",
                "5. Cerca de la esquina inferior izquierda de la ventana, abre el menú desplegable “Formato” y selecciona “Todos los archivos”.\n",
                "    \n",
                "    ![Captura de pantalla resaltando la ventana desplegable de formato](https://cf-courses-data.s3.us.cloud-object-storage.appdomain.cloud/IBM-DB0231EN-SkillsNetwork/labs/PostgreSQL/Lab%20-%20Backup%20and%20Restore%20using%20PostgreSQL/images/pgAdmin_12.png)\n",
                "    \n",
                "6. Selecciona la copia de seguridad que creaste en la Tarea A (por ejemplo, `demo_backup`), luego haz clic en el botón “Seleccionar” cerca de la esquina inferior derecha de la ventana.\n",
                "    \n",
                "    ![Captura de pantalla resaltando demo_backup y el botón Seleccionar](https://cf-courses-data.s3.us.cloud-object-storage.appdomain.cloud/IBM-DB0231EN-SkillsNetwork/labs/PostgreSQL/Lab%20-%20Backup%20and%20Restore%20using%20PostgreSQL/images/pgAdmin_13.png)\n",
                "    \n",
                "7. Luego haz clic en el botón “Restaurar” en la esquina inferior derecha de la ventana para restaurar la base de datos.\n",
                "    \n",
                "    ![Captura de pantalla resaltando el botón Restaurar](https://cf-courses-data.s3.us.cloud-object-storage.appdomain.cloud/IBM-DB0231EN-SkillsNetwork/labs/PostgreSQL/Lab%20-%20Backup%20and%20Restore%20using%20PostgreSQL/images/pgAdmin_14.png)\n",
                "    \n",
                "8. Ahora puedes verificar que la base de datos se restauró correctamente, incluyendo la adición que hiciste a la tabla `aircrafts_data`. Abre la CLI de PostgreSQL:\n",
                "    \n",
                "    ![](https://cf-courses-data.s3.us.cloud-object-storage.appdomain.cloud/CqbupbU5X1_p_UTI0S398A/k2-6-postgresqlCLI.png)\n",
                "    \n",
                "9. En la CLI, ingresa el comando:\n",
                "    \n",
                "    ```\n",
                "    \\connect restored_demo\n",
                "    ```"
            ],
            "metadata": {
                "azdata_cell_guid": "45b0669d-5116-4d83-89ff-38e13f50b2e2"
            },
            "attachments": {}
        },
        {
            "cell_type": "markdown",
            "source": [
                "10. Para establecer la ruta de búsqueda adecuada para tu base de datos, ingresa lo siguiente en la CLI:\n",
                "    \n",
                "    ```\n",
                "    SELECT pg_catalog.set_config('search_path', 'bookings', false);\n",
                "    ```"
            ],
            "metadata": {
                "azdata_cell_guid": "f25acb96-5529-4e48-b726-4aa52ede4b77"
            },
            "attachments": {}
        },
        {
            "cell_type": "markdown",
            "source": [
                "11. Para ver las tablas restauradas en la base de datos, ingresa:\n",
                "    \n",
                "    ```\n",
                "    \\dt\n",
                "    \n",
                "    ```\n",
                "    \n",
                "    Verás las mismas tablas que en la base de datos original `demo`.\n",
                "    \n",
                "    ![Salida del comando \\dt](https://cf-courses-data.s3.us.cloud-object-storage.appdomain.cloud/IBM-DB0231EN-SkillsNetwork/labs/PostgreSQL/Lab%20-%20Backup%20and%20Restore%20using%20PostgreSQL/images/feedback_output_1.png)"
            ],
            "metadata": {
                "azdata_cell_guid": "5853c26c-1211-4a4a-806e-c94b0d5a1cc8"
            },
            "attachments": {}
        },
        {
            "cell_type": "markdown",
            "source": [
                "  \n",
                "\n",
                "12. Recuerda que agregaste un nuevo modelo de aeronave (Airbus A380) a la base de datos original. Verifica que esta adición se haya respaldado y restaurado correctamente ingresando el siguiente comando:\n",
                "    \n",
                "    ```\n",
                "    SELECT * FROM aircrafts_data;\n",
                "    \n",
                "    ```\n",
                "    \n",
                "    ![Salida de la consulta SELECT aircrafts_data](https://cf-courses-data.s3.us.cloud-object-storage.appdomain.cloud/IBM-DB0231EN-SkillsNetwork/labs/PostgreSQL/Lab%20-%20Backup%20and%20Restore%20using%20PostgreSQL/images/feedback_output_2.png)\n",
                "    \n",
                "    ¡Observa que la entrada del Airbus A380 está allí! Una vez más, puedes ingresar `\\q` para salir de esta vista."
            ],
            "metadata": {
                "azdata_cell_guid": "aa36fb47-2621-4fb5-91c7-2d2dbfee1451"
            },
            "attachments": {}
        }
    ]
}