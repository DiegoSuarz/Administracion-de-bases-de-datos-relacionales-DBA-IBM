{
    "metadata": {
        "kernelspec": {
            "name": "SQL",
            "display_name": "SQL",
            "language": "sql"
        },
        "language_info": {
            "name": "sql",
            "version": ""
        }
    },
    "nbformat_minor": 2,
    "nbformat": 4,
    "cells": [
        {
            "cell_type": "markdown",
            "source": [
                "# Descripción general de SQLite y conceptos clave en Datasette\n",
                "\n",
                "**Tiempo estimado: 10 minutos**\n",
                "\n",
                "## Objetivos\n",
                "\n",
                "Después de completar esta lectura, podrás:\n",
                "\n",
                "- **Entender el Papel de SQLite en Datasette**\n",
                "- **Crear y Gestionar Tablas de Datos**\n",
                "- **Implementar Vistas para un Acceso Simplificado a los Datos**\n",
                "- **Optimizar el Rendimiento de Consultas con Índices**\n",
                "\n",
                "Datasette es una herramienta versátil diseñada para explorar y publicar bases de datos SQLite. Permite a los usuarios crear interfaces web intuitivas para bases de datos SQLite, facilitando la navegación y consulta de datos sin necesidad de programación adicional.\n",
                "\n",
                "### Conceptos Clave\n",
                "\n",
                "**SQLite**: SQLite es un motor de base de datos ligero, basado en disco, que opera sin un proceso de servidor separado. Su simplicidad y facilidad de configuración lo hacen ideal para aplicaciones locales y entornos de desarrollo.\n",
                "\n",
                "**Vistas**: Las vistas son tablas virtuales derivadas de los resultados de consultas SQL. Las vistas simplifican consultas complejas, facilitan la reutilización de consultas y presentan datos en formatos específicos sin alterar las tablas subyacentes.\n",
                "\n",
                "**Índices**: Los índices son objetos de base de datos que mejoran la velocidad de recuperación de datos. Al crear una estructura de datos separada, los índices permiten que el motor de base de datos localice filas de manera más eficiente que realizando un escaneo completo de la tabla.\n",
                "\n",
                "### Escenario del Mundo Real: Gestión de Inventario de un E-commerce\n",
                "\n",
                "**Escenario**: Imagina que estás gestionando una plataforma de e-commerce que vende una variedad de productos. Tu objetivo es crear una base de datos para rastrear el inventario, incluyendo detalles del producto e información de ventas. Quieres optimizar la base de datos para acceder y analizar datos rápidamente.\n",
                ""
            ],
            "metadata": {
                "azdata_cell_guid": "6e876df2-f253-4116-b6a0-bd47409b718b"
            },
            "attachments": {}
        },
        {
            "cell_type": "markdown",
            "source": [
                "### Ejemplo: Gestión de Inventario de Comercio Electrónico\n",
                "\n",
                "**1\\. Crear una Tabla de Datos**:\n",
                "\n",
                "Crea una tabla para almacenar información del producto, incluyendo `product ID, name, category, price, and stock quantity`.\n",
                "\n",
                "**Consulta SQL de Ejemplo**\n",
                "\n",
                "```\n",
                "CREATE TABLE products (    \n",
                "    id INTEGER PRIMARY KEY,\n",
                "    name TEXT NOT NULL,    \n",
                "    category TEXT NOT NULL,    \n",
                "    price REAL NOT NULL,    \n",
                "    stock_quantity INTEGER NOT NULL\n",
                "    );\n",
                "\n",
                "```"
            ],
            "metadata": {
                "azdata_cell_guid": "933e8df6-95a1-4252-9e52-98a2972289fa"
            },
            "attachments": {}
        },
        {
            "cell_type": "markdown",
            "source": [
                "**Datos de Ejemplo**\n",
                "\n",
                "```SQL\n",
                "INSERT INTO products (name, category, price, stock_quantity) \n",
                "VALUES\n",
                "    ('Smartphone', 'Electronics', 699.99, 150),\n",
                "    ('Laptop', 'Electronics', 999.99, 85),\n",
                "    ('Sneakers', 'Footwear', 89.99, 200),\n",
                "    ('Running Shoes', 'Footwear', 129.99, 120),\n",
                "    ('Blender', 'Home Appliances', 49.99, 60);\n",
                "```\n",
                "\n",
                "> **Nota: Esta es solo una pequeña muestra de datos por simplicidad. Sin embargo, cuando desees explorar vistas e índices, puedes notar la diferencia con un conjunto de datos grande.**\n",
                "\n",
                "**2\\. Crear una Vista**\n",
                "\n",
                "Crea una vista para acceder fácilmente a los productos que están bajos en stock (por ejemplo, menos de 100 unidades).\n",
                "\n",
                "**Consulta SQL de Muestra**\n",
                "\n",
                "```SQL\n",
                "CREATE VIEW low_stock_products ASSELECT name, category, price, stock_quantity\n",
                "FROM productsWHERE stock_quantity < 100;\n",
                "```\n",
                "\n",
                "Para consultar productos con bajo stock, podemos usar la siguiente consulta de muestra:\n",
                "\n",
                "**Consulta SQL de Muestra**\n",
                "\n",
                "```SQL\n",
                "SELECT * FROM low_stock_products;\n",
                "```\n",
                "\n",
                "Esta vista proporciona una forma rápida de identificar productos que necesitan ser reabastecidos sin consultar directamente la tabla principal de productos."
            ],
            "metadata": {
                "azdata_cell_guid": "35f7eb4e-9f73-4bd4-9c95-7b896136846e"
            },
            "attachments": {}
        },
        {
            "cell_type": "markdown",
            "source": [
                "**3\\. Crear un Índice**\n",
                "\n",
                "Antes de crear un índice, puedes medir el tiempo de consulta sin un índice, utilizando la siguiente consulta:\n",
                "\n",
                "**Consulta SQL de Ejemplo**\n",
                "\n",
                "```SQL\n",
                "-- Record the start time\n",
                "\n",
                "SELECT strftime('%Y-%m-%d %H:%M:%f', 'now') AS start_time; \n",
                "\n",
                "-- Run the query\n",
                "SELECT * FROM products WHERE category = 'Footwear'; -- Record the end Time\n",
                "SELECT strftime('%Y-%m-%d %H:%M:%f', 'now') AS end_time;Copied!Wrap Toggled!\n",
                "\n",
                "```\n",
                "\n",
                "Ahora puedes crear un índice para mejorar el rendimiento de las consultas por categoría de producto.\n",
                "\n",
                "**Consulta SQL de Ejemplo**\n",
                "\n",
                "```SQL\n",
                "CREATE INDEX idx_category ON products (category);\n",
                "\n",
                "```\n",
                "\n",
                "Para encontrar todos los productos en la categoría `Footwear`, podemos usar la consulta que se muestra a continuación:\n",
                "\n",
                "**Consulta SQL de ejemplo**\n",
                "\n",
                "```SQL\n",
                "-- Record the start time\n",
                "SELECT strftime('%Y-%m-%d %H:%M:%f', 'now') AS start_time;-- Run the query\n",
                "SELECT * FROM products WHERE category = 'Footwear';-- Record the end time\n",
                "SELECT strftime('%Y-%m-%d %H:%M:%f', 'now') AS end_time;Copied!Wrap Toggled!\n",
                "\n",
                "```\n",
                "\n",
                "El índice en la columna de categoría ayuda a acelerar esta consulta, haciéndola más eficiente, especialmente con un inventario grande. La ejecución de la consulta es más rápida ya que el índice permite a SQLite encontrar rápidamente las filas relevantes, evitando un escaneo completo de la tabla.\n",
                "\n",
                "### Conclusión\n",
                "\n",
                "Has aprendido cómo usar SQLite en Datasette para crear tablas, implementar vistas y optimizar consultas con índices. Estas herramientas mejoran la gestión de datos y optimizan el rendimiento de las consultas, facilitando el manejo y análisis eficiente del inventario de comercio electrónico."
            ],
            "metadata": {
                "azdata_cell_guid": "155c6fa4-753b-46ad-bb6b-4bd5d264ddf1"
            },
            "attachments": {}
        }
    ]
}